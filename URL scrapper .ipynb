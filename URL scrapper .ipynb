{
 "cells": [
  {
   "cell_type": "code",
   "execution_count": 39,
   "metadata": {},
   "outputs": [],
   "source": [
    "from requests import get\n",
    "from bs4 import BeautifulSoup\n",
    "from IPython.core.display import clear_output\n",
    "from time import sleep, time\n",
    "from random import randint\n",
    "import warnings\n",
    "import matplotlib.pyplot as plt\n",
    "import pandas as pd\n",
    "import string"
   ]
  },
  {
   "cell_type": "code",
   "execution_count": null,
   "metadata": {},
   "outputs": [],
   "source": [
    "##These labels are used to create the webpage of the yelp restaurants"
   ]
  },
  {
   "cell_type": "code",
   "execution_count": 16,
   "metadata": {},
   "outputs": [],
   "source": [
    "website = \"https://www.yelp.com/search?find_desc=Restaurants\"\n",
    "sf_label = \"&find_loc=San%20Francisco%2C%20CA\"\n",
    "sj_label = \"&find_loc=San%20Jose%2C%20CA\"\n",
    "cheap_label = \"&attrs=RestaurantsPriceRange2.1\"\n",
    "medium_label = \"&attrs=RestaurantsPriceRange2.2\"\n",
    "expensive_label = \"&attrs=RestaurantsPriceRange2.3\"\n",
    "vegetarian_label =\"&cflt=vegetarian\""
   ]
  },
  {
   "cell_type": "code",
   "execution_count": null,
   "metadata": {},
   "outputs": [],
   "source": [
    "## The format is:\n",
    "##(Website + Location_label + Price_label + page_Label) <nonveg\n",
    "##(Website + location_label + price_label + vegetarian+label) < veg\n",
    "## We cannot use a loop to scrape all the categories at once because certain categories have many more restaurants than others\n",
    "## therefore, you have to just run this code procedurally for each tag.\n",
    "## also, some pages have random advertisement restaurants that we have to get rid of as well\n",
    "## If we insist on using a loop we have to decided exactly what locations/how many of each restaurant we are using"
   ]
  },
  {
   "cell_type": "code",
   "execution_count": 18,
   "metadata": {},
   "outputs": [],
   "source": [
    "\n",
    "def getPage(inp):\n",
    "    return ((inp-1)*30)"
   ]
  },
  {
   "cell_type": "code",
   "execution_count": 19,
   "metadata": {},
   "outputs": [],
   "source": [
    "##insert page number as an arg. here\n",
    "page = getPage(1)\n",
    "page_label = \"&start=\" + str(page)"
   ]
  },
  {
   "cell_type": "code",
   "execution_count": 35,
   "metadata": {},
   "outputs": [],
   "source": [
    "##making as a list so we dont have to refactor as much in case we decide to change back to using a list \n",
    "\n",
    "\n",
    "newSite = get(website+sf_label+cheap_label+page_label)\n",
    "toScrape.append(newSite)\n",
    "html_soup = BeautifulSoup(newSite.text, 'html.parser')"
   ]
  },
  {
   "cell_type": "code",
   "execution_count": 37,
   "metadata": {},
   "outputs": [
    {
     "name": "stdout",
     "output_type": "stream",
     "text": [
      "['/adredir?ad_business_id=Qe1c3ePgO9TkGSRsgRdTCw&campaign_id=vb_Xcd_ujY_5LuIIEMPD0g&click_origin=search_results&placement=above_search&redirect_url=https%3A%2F%2Fwww.yelp.com%2Fbiz%2Fmcdonalds-san-francisco-28&request_id=e89c0431cff08625&signature=777a29e664833b5fadf8f398daa6927319772aeb5e5e9bccbbaf7698daf94d1c&slot=0', '/biz/the-bird-san-francisco?osq=Restaurants', '/biz/tselogs-san-francisco-5?osq=Restaurants', '/biz/nicks-crispy-tacos-san-francisco-2?osq=Restaurants', '/biz/taboun-san-francisco?osq=Restaurants', '/biz/dragoneats-san-francisco-7?osq=Restaurants', '/biz/yama-chan-san-francisco?osq=Restaurants', '/biz/la-taqueria-san-francisco-2?osq=Restaurants', '/biz/el-farolito-san-francisco-2?osq=Restaurants', '/biz/pushkin-san-francisco?osq=Restaurants', '/biz/dinosaurs-san-francisco-4?osq=Restaurants', '/biz/palmyra-san-francisco?osq=Restaurants', '/biz/house-of-pancakes-san-francisco?osq=Restaurants', '/biz/super-duper-burgers-san-francisco-4?osq=Restaurants', '/biz/truly-mediterranean-san-francisco?osq=Restaurants', '/biz/saigon-sandwich-san-francisco?osq=Restaurants', '/biz/good-luck-dim-sum-san-francisco?osq=Restaurants', '/biz/cafe-bunn-mi-san-francisco?osq=Restaurants', '/biz/street-taco-san-francisco?osq=Restaurants', '/biz/creator-san-francisco?osq=Restaurants', '/biz/delicious-dim-sum-san-francisco?osq=Restaurants', '/biz/good-mong-kok-bakery-san-francisco?osq=Restaurants', '/biz/new-fortune-restaurant-san-francisco?osq=Restaurants', '/biz/yuanbao-jiaozi-san-francisco-2?osq=Restaurants', '/biz/golden-boy-pizza-san-francisco?osq=Restaurants', '/biz/pho-huynh-hiep-2-kevins-noodle-house-san-francisco?osq=Restaurants', '/biz/kim-son-vietnamese-restaurant-san-francisco?osq=Restaurants', '/biz/volcano-san-francisco?osq=Restaurants', '/biz/silk-road-san-francisco-2?osq=Restaurants', '/biz/sam-wo-restaurant-san-francisco-3?osq=Restaurants', '/biz/hai-ky-noodles-san-francisco?osq=Restaurants']\n"
     ]
    }
   ],
   "source": [
    "restaurant_containers = html_soup.find_all('div', class_ = 'lemon--div__373c0__1mboc searchResult__373c0__1yggB border-color--default__373c0__2oFDT')\n",
    "refList = []\n",
    "for current in restaurant_containers:\n",
    "    title = current.h3.find('a', class_ = \"lemon--a__373c0__IEZFH link__373c0__29943 link-color--blue-dark__373c0__1mhJo link-size--inherit__373c0__2JXk5\")\n",
    "    refList.append(title['href'])\n",
    "    \n",
    "\n",
    "    \n"
   ]
  },
  {
   "cell_type": "code",
   "execution_count": 41,
   "metadata": {},
   "outputs": [
    {
     "data": {
      "text/plain": [
       "['https://www.yelp.comhttps://www.yelp.com/adredir?ad_business_id=Qe1c3ePgO9TkGSRsgRdTCw&campaign_id=vb_Xcd_ujY_5LuIIEMPD0g&click_origin=search_results&placement=above_search&redirect_url=https%3A%2F%2Fwww.yelp.com%2Fbiz%2Fmcdonalds-san-francisco-28&request_id=e89c0431cff08625&signature=777a29e664833b5fadf8f398daa6927319772aeb5e5e9bccbbaf7698daf94d1c&slot=0',\n",
       " 'https://www.yelp.comhttps://www.yelp.com/biz/the-bird-san-francisco?osq=Restaurants',\n",
       " 'https://www.yelp.comhttps://www.yelp.com/biz/tselogs-san-francisco-5?osq=Restaurants',\n",
       " 'https://www.yelp.comhttps://www.yelp.com/biz/nicks-crispy-tacos-san-francisco-2?osq=Restaurants',\n",
       " 'https://www.yelp.comhttps://www.yelp.com/biz/taboun-san-francisco?osq=Restaurants',\n",
       " 'https://www.yelp.comhttps://www.yelp.com/biz/dragoneats-san-francisco-7?osq=Restaurants',\n",
       " 'https://www.yelp.comhttps://www.yelp.com/biz/yama-chan-san-francisco?osq=Restaurants',\n",
       " 'https://www.yelp.comhttps://www.yelp.com/biz/la-taqueria-san-francisco-2?osq=Restaurants',\n",
       " 'https://www.yelp.comhttps://www.yelp.com/biz/el-farolito-san-francisco-2?osq=Restaurants',\n",
       " 'https://www.yelp.comhttps://www.yelp.com/biz/pushkin-san-francisco?osq=Restaurants',\n",
       " 'https://www.yelp.comhttps://www.yelp.com/biz/dinosaurs-san-francisco-4?osq=Restaurants',\n",
       " 'https://www.yelp.comhttps://www.yelp.com/biz/palmyra-san-francisco?osq=Restaurants',\n",
       " 'https://www.yelp.comhttps://www.yelp.com/biz/house-of-pancakes-san-francisco?osq=Restaurants',\n",
       " 'https://www.yelp.comhttps://www.yelp.com/biz/super-duper-burgers-san-francisco-4?osq=Restaurants',\n",
       " 'https://www.yelp.comhttps://www.yelp.com/biz/truly-mediterranean-san-francisco?osq=Restaurants',\n",
       " 'https://www.yelp.comhttps://www.yelp.com/biz/saigon-sandwich-san-francisco?osq=Restaurants',\n",
       " 'https://www.yelp.comhttps://www.yelp.com/biz/good-luck-dim-sum-san-francisco?osq=Restaurants',\n",
       " 'https://www.yelp.comhttps://www.yelp.com/biz/cafe-bunn-mi-san-francisco?osq=Restaurants',\n",
       " 'https://www.yelp.comhttps://www.yelp.com/biz/street-taco-san-francisco?osq=Restaurants',\n",
       " 'https://www.yelp.comhttps://www.yelp.com/biz/creator-san-francisco?osq=Restaurants',\n",
       " 'https://www.yelp.comhttps://www.yelp.com/biz/delicious-dim-sum-san-francisco?osq=Restaurants',\n",
       " 'https://www.yelp.comhttps://www.yelp.com/biz/good-mong-kok-bakery-san-francisco?osq=Restaurants',\n",
       " 'https://www.yelp.comhttps://www.yelp.com/biz/new-fortune-restaurant-san-francisco?osq=Restaurants',\n",
       " 'https://www.yelp.comhttps://www.yelp.com/biz/yuanbao-jiaozi-san-francisco-2?osq=Restaurants',\n",
       " 'https://www.yelp.comhttps://www.yelp.com/biz/golden-boy-pizza-san-francisco?osq=Restaurants',\n",
       " 'https://www.yelp.comhttps://www.yelp.com/biz/pho-huynh-hiep-2-kevins-noodle-house-san-francisco?osq=Restaurants',\n",
       " 'https://www.yelp.comhttps://www.yelp.com/biz/kim-son-vietnamese-restaurant-san-francisco?osq=Restaurants',\n",
       " 'https://www.yelp.comhttps://www.yelp.com/biz/volcano-san-francisco?osq=Restaurants',\n",
       " 'https://www.yelp.comhttps://www.yelp.com/biz/silk-road-san-francisco-2?osq=Restaurants',\n",
       " 'https://www.yelp.comhttps://www.yelp.com/biz/sam-wo-restaurant-san-francisco-3?osq=Restaurants',\n",
       " 'https://www.yelp.comhttps://www.yelp.com/biz/hai-ky-noodles-san-francisco?osq=Restaurants']"
      ]
     },
     "execution_count": 41,
     "metadata": {},
     "output_type": "execute_result"
    }
   ],
   "source": [
    "yelp_template = string.Template(\"https://www.yelp.com$link\")\n",
    "for i in range(len(refList)):\n",
    "    refList[i] = yelp_template.substitute(link = refList[i])\n",
    "    \n",
    "    \n",
    "#removing the first restaurant bc its an advertised restaurant I think\n",
    "refList.pop(0)\n",
    "refList\n",
    "\n"
   ]
  }
 ],
 "metadata": {
  "kernelspec": {
   "display_name": "Python 3",
   "language": "python",
   "name": "python3"
  },
  "language_info": {
   "codemirror_mode": {
    "name": "ipython",
    "version": 3
   },
   "file_extension": ".py",
   "mimetype": "text/x-python",
   "name": "python",
   "nbconvert_exporter": "python",
   "pygments_lexer": "ipython3",
   "version": "3.7.3"
  }
 },
 "nbformat": 4,
 "nbformat_minor": 2
}
