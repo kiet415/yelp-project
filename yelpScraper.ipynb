{
 "cells": [
  {
   "cell_type": "code",
   "execution_count": null,
   "metadata": {},
   "outputs": [],
   "source": [
    "from requests import get\n",
    "from bs4 import BeautifulSoup\n",
    "from IPython.core.display import clear_output\n",
    "from time import sleep, time\n",
    "from random import randint\n",
    "import warnings\n",
    "    "
   ]
  },
  {
   "cell_type": "code",
   "execution_count": 121,
   "metadata": {},
   "outputs": [],
   "source": [
    "average_ratings = {}\n",
    "number_of_reviews = {}\n",
    "price_per_person = {}\n",
    "\n",
    "veg_restaurants_links = {\n",
    "    \"La Taqueria\": \"https://www.yelp.com/biz/la-taqueria-san-francisco-2?osq=restaurants\",\n",
    "    \"Curry Up Now\": \"https://www.yelp.com/biz/curry-up-now-san-francisco-5?osq=restaurants\",\n",
    "    \"Lucky Creation\": \"https://www.yelp.com/biz/lucky-creation-vegetarian-restaurant-san-francisco?osq=vegetarian\",\n",
    "    \"Shizen Vegan Sushi Bar & Izakaya\": \"https://www.yelp.com/biz/shizen-vegan-sushi-bar-and-izakaya-san-francisco?osq=restaurants\",\n",
    "    \"Greens Restaurant\": \"https://www.yelp.com/biz/greens-restaurant-san-francisco-5?osq=restaurants\",\n",
    "    \"Nightbird\": \"https://www.yelp.com/biz/nightbird-san-francisco?osq=Restaurants\",\n",
    "    \"Gracias Madre\": \"https://www.yelp.com/biz/gracias-madre-san-francisco?osq=restaurants\",\n",
    "    \"Maruya\": \"https://www.yelp.com/biz/maruya-san-francisco?osq=Restaurants\",\n",
    "    \"The Dosa Brothers\": \"https://www.yelp.com/biz/the-dosa-brothers-san-francisco-10?osq=Restaurants\",\n",
    "    \"Cha-Ya\": \"https://www.yelp.com/biz/cha-ya-san-francisco-5?osq=restaurants\",\n",
    "    \"Udupi Palace\": \"https://www.yelp.com/biz/udupi-palace-san-francisco?osq=restaurants\",\n",
    "    \"Peasant Pies Noe Valley\": \"https://www.yelp.com/biz/peasant-pies-noe-valley-san-francisco?osq=Restaurants\",\n",
    "    \"Beharam\": \"https://www.yelp.com/biz/besharam-san-francisco?osq=restaurants\",\n",
    "    \"Lucky Creation Vegeterian Restaurant\": \"https://www.yelp.com/biz/lucky-creation-vegetarian-restaurant-san-francisco?osq=Restaurants\",\n",
    "    \"Beloved Cafe\": \"https://www.yelp.com/biz/beloved-cafe-san-francisco?osq=restaurants\",\n",
    "    \"Morty's Delicatessen\": \"https://www.yelp.com/biz/mortys-delicatessen-san-francisco?osq=Restaurants\",\n",
    "    \"Donut Farm\": \"https://www.yelp.com/biz/donut-farm-san-francisco?osq=Restaurants\",\n",
    "    \"MIXT\": \"https://www.yelp.com/biz/mixt-san-francisco-13?osq=restaurants\",\n",
    "    \"Something Simple for Lunch\": \"https://www.yelp.com/biz/something-simple-for-lunch-san-francisco?osq=Restaurants\",\n",
    "    \"Indochine Vegan\": \"https://www.yelp.com/biz/indochine-vegan-san-francisco-2?osq=restaurants\",\n",
    "    \n",
    "}\n"
   ]
  },
  {
   "cell_type": "code",
   "execution_count": 122,
   "metadata": {},
   "outputs": [],
   "source": [
    "## find average rating of each restaurant\n",
    "def scrape_average_ratings(rating_container):\n",
    "    ## some links have different span className\n",
    "    if rating_container is None:\n",
    "        rating_container = html_soup.find('div', class_ = \"lemon--div__373c0__1mboc i-stars__373c0__Y2F3O i-stars--large-4-half__373c0__2rd5j border-color--default__373c0__2oFDT overflow--hidden__373c0__8Jq2I\")\n",
    "        if rating_container is None:\n",
    "            rating_container = html_soup.find('div', class_ = \"lemon--div__373c0__1mboc i-stars__373c0__Y2F3O i-stars--large-3-half__373c0__3i1MU border-color--default__373c0__2oFDT overflow--hidden__373c0__8Jq2I\")\n",
    "            return rating_container['aria-label']\n",
    "        else:\n",
    "            return rating_container['aria-label']\n",
    "    else:\n",
    "        return rating_container['aria-label']\n",
    "\n",
    "        \n",
    "## find number of ratings of each restaurant\n",
    "def scrape_number_of_reviews(review_container):\n",
    "    return review_container.p.text\n",
    "\n",
    "## find price per person of each restaurant\n",
    "def scrape_price_per_person(html_soup):\n",
    "    price_container = html_soup.find('span', class_ = \"lemon--span__373c0__3997G text__373c0__2pB8f text-color--normal__373c0__K_MKN text-align--left__373c0__2pnx_ text-bullet--after__373c0__1ZHaA text-size--large__373c0__1568g\")\n",
    "    return price_container.text\n",
    "\n",
    "def scrape_reviews(html_soup):\n",
    "    review_container = html_soup.find_all('li', class_ = \"lemon--li__373c0__1r9wz u-space-b3 u-padding-b3 border--bottom__373c0__uPbXS border-color--default__373c0__2oFDT\")"
   ]
  },
  {
   "cell_type": "code",
   "execution_count": 124,
   "metadata": {},
   "outputs": [
    {
     "name": "stdout",
     "output_type": "stream",
     "text": [
      "Request 1, Frequency 0.06307639605550555 requests/s\n"
     ]
    }
   ],
   "source": [
    "start_time = time()\n",
    "requests = 0\n",
    "\n",
    "for i in veg_restaurants_links:\n",
    "    response = get(veg_restaurants_links[i])\n",
    "    sleep(randint(8,15))\n",
    "    \n",
    "    requests += 1\n",
    "    elapsed_time = time() - start_time\n",
    "    print(\"Request {}, Frequency {} requests/s\".format(requests, requests/elapsed_time))\n",
    "    clear_output(wait=True)\n",
    "    \n",
    "    html_soup = BeautifulSoup(response.text, 'html.parser')\n",
    "    ## this container contains both review and rating containers\n",
    "    review_and_rating_container = html_soup.find('div', class_ = \"lemon--div__373c0__1mboc arrange__373c0__UHqhV gutter-6__373c0__zqA5A vertical-align-middle__373c0__2TQsQ u-space-b1 border-color--default__373c0__2oFDT\")\n",
    "    \n",
    "    ## find asverage rating and numbre of reviews of each restaurant\n",
    "    rating_container = review_and_rating_container.find('div', class_ = \"lemon--div__373c0__1mboc i-stars__373c0__Y2F3O i-stars--large-4__373c0__3fk-p border-color--default__373c0__2oFDT overflow--hidden__373c0__8Jq2I\")\n",
    "    review_container = review_and_rating_container.find('div', class_ = \"lemon--div__373c0__1mboc arrange-unit__373c0__1piwO border-color--default__373c0__2oFDT nowrap__373c0__1_N1j\")\n",
    "    average_ratings[i] = scrape_average_ratings(rating_container)\n",
    "    number_of_reviews[i] = scrape_number_of_reviews(review_container)\n",
    "    \n",
    "    price_per_person[i] = scrape_price_per_person(html_soup)\n",
    "\n"
   ]
  },
  {
   "cell_type": "code",
   "execution_count": 125,
   "metadata": {},
   "outputs": [
    {
     "name": "stdout",
     "output_type": "stream",
     "text": [
      "{'La Taqueria': '3987 reviews'}\n"
     ]
    }
   ],
   "source": [
    "print(number_of_reviews)"
   ]
  },
  {
   "cell_type": "code",
   "execution_count": 108,
   "metadata": {},
   "outputs": [],
   "source": [
    "def clean_data():\n",
    "    for rating in average_ratings:\n",
    "        average_ratings[rating] = float(average_ratings[rating].replace(\" star rating\", \"\"))\n",
    "    \n",
    "    for i in number_of_reviews:\n",
    "        number_of_reviews[i] = int(number_of_reviews[i].replace(\" reviews\", \"\"))\n",
    "    \n",
    "    for i in price_per_person:\n",
    "        price_per_person[i] = price_per_person[i].replace(\" \", \"\")"
   ]
  },
  {
   "cell_type": "code",
   "execution_count": 118,
   "metadata": {},
   "outputs": [],
   "source": []
  },
  {
   "cell_type": "code",
   "execution_count": 120,
   "metadata": {},
   "outputs": [
    {
     "data": {
      "text/plain": [
       "{'Curry Up Now': 3.5,\n",
       " 'Lucky Creation': 4.0,\n",
       " 'Shizen Vegan Sushi Bar & Izakaya': 4.5,\n",
       " 'Greens Restaurant': 4.0,\n",
       " 'Nightbird': 4.0,\n",
       " 'Gracias Madre': 4.0,\n",
       " 'Maruya': 4.0,\n",
       " 'The Dosa Brothers': 4.5,\n",
       " 'Cha-Ya': 4.0,\n",
       " 'Udupi Palace': 4.0,\n",
       " 'Peasant Pies Noe Valley': 4.0,\n",
       " 'Beharam': 4.0,\n",
       " 'Lucky Creation Vegeterian Restaurant': 4.0,\n",
       " 'Beloved Cafe': 4.5,\n",
       " \"Morty's Delicatessen\": 4.0,\n",
       " 'Donut Farm': 4.0,\n",
       " 'MIXT': 4.0}"
      ]
     },
     "execution_count": 120,
     "metadata": {},
     "output_type": "execute_result"
    }
   ],
   "source": [
    "average_ratings"
   ]
  },
  {
   "cell_type": "code",
   "execution_count": null,
   "metadata": {},
   "outputs": [],
   "source": []
  }
 ],
 "metadata": {
  "kernelspec": {
   "display_name": "Python 3",
   "language": "python",
   "name": "python3"
  }
 },
 "nbformat": 4,
 "nbformat_minor": 2
}
